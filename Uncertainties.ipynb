{
  "cells": [
    {
      "cell_type": "markdown",
      "metadata": {
        "id": "RJwe3oKaDmsr"
      },
      "source": [
        "# Feedback from previous weeks and other and hints\n",
        "\n",
        "1. Be careful about your environment remembering variables. Make sure your code works in a new _clean_ environment. In Colab: `Runtime`->`restart Runtime`, in Anaconda's Jupyter: `Kernel`->`Restart`.\n",
        "2. Graphs without labels (or units when appropriate) are not worth any point.\n",
        "3. Do put in sufficient explanatory comments in your code.\n",
        "4. Functions are very important. Do look up the video on the Safari O'Reilly ressource if you are still not clear on them !\n",
        "\n",
        "For this week you can use these imports at the start of your programs:"
      ]
    },
    {
      "cell_type": "code",
      "execution_count": 1,
      "metadata": {
        "id": "vU2IOUwwDmst"
      },
      "outputs": [],
      "source": [
        "import numpy as np\n",
        "import matplotlib.pyplot as plt"
      ]
    },
    {
      "cell_type": "markdown",
      "metadata": {
        "id": "Tvuqeq4-Dmst"
      },
      "source": [
        "We will use a new module `uncertainties`, which is **not** standard in the colab environment. You will have to first run:"
      ]
    },
    {
      "cell_type": "code",
      "execution_count": 2,
      "metadata": {
        "id": "pSE2PQf5Dmsu",
        "outputId": "fc71f20c-5c46-4921-a727-7aab06b0b16c",
        "colab": {
          "base_uri": "https://localhost:8080/"
        }
      },
      "outputs": [
        {
          "output_type": "stream",
          "name": "stdout",
          "text": [
            "\u001b[?25l   \u001b[90m━━━━━━━━━━━━━━━━━━━━━━━━━━━━━━━━━━━━━━━━\u001b[0m \u001b[32m0.0/60.1 kB\u001b[0m \u001b[31m?\u001b[0m eta \u001b[36m-:--:--\u001b[0m\r\u001b[2K   \u001b[91m━━━━━━━━━━━━━━━━━━━━━━━━━━━━━━━━━━\u001b[0m\u001b[90m╺\u001b[0m\u001b[90m━━━━━\u001b[0m \u001b[32m51.2/60.1 kB\u001b[0m \u001b[31m49.3 MB/s\u001b[0m eta \u001b[36m0:00:01\u001b[0m\r\u001b[2K   \u001b[90m━━━━━━━━━━━━━━━━━━━━━━━━━━━━━━━━━━━━━━━━\u001b[0m \u001b[32m60.1/60.1 kB\u001b[0m \u001b[31m1.2 MB/s\u001b[0m eta \u001b[36m0:00:00\u001b[0m\n",
            "\u001b[?25h"
          ]
        }
      ],
      "source": [
        "! pip install -q uncertainties"
      ]
    },
    {
      "cell_type": "markdown",
      "metadata": {
        "id": "NoggZAoxDmsu"
      },
      "source": [
        "To install the module before you can import it:"
      ]
    },
    {
      "cell_type": "code",
      "execution_count": 3,
      "metadata": {
        "id": "_qcGyqpPDmsu"
      },
      "outputs": [],
      "source": [
        "import uncertainties as uc\n",
        "import uncertainties.umath as um # for maths functions"
      ]
    },
    {
      "cell_type": "markdown",
      "metadata": {
        "id": "v44j8lPXDmsu"
      },
      "source": [
        "# Introduction\n",
        "In the practical classes PX2133/PX2233 and PX2338 (Obs tech), as well as your year 3/4 project, a lot of emphasis is placed on the determination and mathematical handling of errors.\n",
        "The uncertainties module allows us to deal very easily with [error propagation](https://en.wikipedia.org/wiki/Propagation_of_uncertainty). For this sheet you should remind yourself about error bars in measurements and about propagation of uncertainties. Take an example from your lab handbook:\n",
        "\n",
        "**Example 1**: If the length of a rectangle is $1.24\\pm0.02 m$ and its breadth is $0.61\\pm0.01 m$, what is its area and the error in the area? The following code snippet solves this problem in a few lines."
      ]
    },
    {
      "cell_type": "code",
      "execution_count": 4,
      "metadata": {
        "id": "Tp-qhd_SDmsu",
        "outputId": "8a76c8bc-ba17-45cd-8f92-e0611cd80791",
        "colab": {
          "base_uri": "https://localhost:8080/"
        }
      },
      "outputs": [
        {
          "output_type": "stream",
          "name": "stdout",
          "text": [
            "Area is: 0.756+/-0.017 m^2\n"
          ]
        }
      ],
      "source": [
        "L = uc.ufloat(1.24, 0.02)\n",
        "W = uc.ufloat(0.61, 0.01)\n",
        "print ('Area is:', L*W, 'm^2') # Do remember to add the units when printing!"
      ]
    },
    {
      "cell_type": "markdown",
      "metadata": {
        "id": "Wt_2tYQSDmsv"
      },
      "source": [
        "**Note**: For the area itself, it's fairly straightforward:"
      ]
    },
    {
      "cell_type": "code",
      "execution_count": 5,
      "metadata": {
        "id": "OO9dN3AIDmsv",
        "outputId": "ac3cd271-be3f-467b-8db8-0d5663542e39",
        "colab": {
          "base_uri": "https://localhost:8080/"
        }
      },
      "outputs": [
        {
          "output_type": "execute_result",
          "data": {
            "text/plain": [
              "0.7564"
            ]
          },
          "metadata": {},
          "execution_count": 5
        }
      ],
      "source": [
        "1.24*0.61"
      ]
    },
    {
      "cell_type": "markdown",
      "metadata": {
        "id": "270P7tdMDmsv"
      },
      "source": [
        "However, for the error bar on this number:"
      ]
    },
    {
      "cell_type": "code",
      "execution_count": 6,
      "metadata": {
        "id": "GTJ9Rrd-Dmsw",
        "outputId": "9b13fffc-ad73-43ab-b129-f4f96229c9c0",
        "colab": {
          "base_uri": "https://localhost:8080/"
        }
      },
      "outputs": [
        {
          "output_type": "execute_result",
          "data": {
            "text/plain": [
              "0.0002"
            ]
          },
          "metadata": {},
          "execution_count": 6
        }
      ],
      "source": [
        "0.02*0.01"
      ]
    },
    {
      "cell_type": "markdown",
      "metadata": {
        "id": "9CYuOuXZDmsw"
      },
      "source": [
        "does not work. Instead, the [error progation formula](https://en.wikipedia.org/wiki/Propagation_of_uncertainty#Example_formulae) gives:"
      ]
    },
    {
      "cell_type": "code",
      "execution_count": 7,
      "metadata": {
        "id": "QCX4keC1Dmsw",
        "outputId": "43e894bc-7181-4759-ccd2-40b48091a56d",
        "colab": {
          "base_uri": "https://localhost:8080/"
        }
      },
      "outputs": [
        {
          "output_type": "execute_result",
          "data": {
            "text/plain": [
              "np.float64(0.01739540169125163)"
            ]
          },
          "metadata": {},
          "execution_count": 7
        }
      ],
      "source": [
        "np.abs(1.24*0.61)*np.sqrt((0.02/1.24)**2+(0.01/0.61)**2)"
      ]
    },
    {
      "cell_type": "markdown",
      "metadata": {
        "id": "DUoEW0N4Dmsw"
      },
      "source": [
        "So the area is $0.756\\pm0.017 m^2$. `uncertainties` obviously saves a lot of work, even for such a simple case. You can also take a look at the web site uncertainties hosted at https://pythonhosted.org/uncertainties/user_guide.html. In particular, [this section](https://pythonhosted.org/uncertainties/user_guide.html#access-to-the-uncertainty-and-to-the-nominal-value) shows some of the properties of a `ufloat` you can access directly.\n",
        "\n",
        "**Example 2**: A reference object is $10.0\\pm0.0001 m$ long, and makes a viewing angle of $0.62\\pm0.02 rad$. How far is it?"
      ]
    },
    {
      "cell_type": "code",
      "execution_count": 8,
      "metadata": {
        "id": "-A6Hi9SYDmsx",
        "outputId": "a61e7a99-6768-46b1-8b06-2d3cec718e39",
        "colab": {
          "base_uri": "https://localhost:8080/"
        }
      },
      "outputs": [
        {
          "output_type": "stream",
          "name": "stdout",
          "text": [
            "Distance is: 15.609024890896208 m, with an error of: 0.537283338762715\n"
          ]
        }
      ],
      "source": [
        "L = uc.ufloat(10.0, 0.0001)\n",
        "theta = uc.ufloat(0.62,0.02)\n",
        "\n",
        "Distance = (L/2)/um.tan(theta/2)\n",
        "\n",
        "print ('Distance is:', Distance.nominal_value, 'm, with an error of:', Distance.std_dev)"
      ]
    },
    {
      "cell_type": "markdown",
      "metadata": {
        "id": "imklJidcDmsx"
      },
      "source": [
        "Note the need to use \"umath\" functions (like `um.tan()` instead of `np.tan()`), and how to get the nominal value and the standard deviation of the uncertainties objects. To get nicer looking output, such as controlling the number of significant digits printed, you can use the information about formatting at https://docs.python.org/3/tutorial/inputoutput.html. In the exercises below you need to print the values to the screen. (Don’t forget units.)"
      ]
    },
    {
      "cell_type": "markdown",
      "metadata": {
        "id": "4MYc8QWHDmsx"
      },
      "source": [
        "# Exercises\n",
        "This must be marked before you leave the lab. Mark weighting is in brackets.\n",
        "**Save your work to GitHub after having run all cells with `Runtime` -> `Restart and run all`. And do not change the notebook's filename.** Do add comments to your code, you'll lose points if your code is hard to understand. Graphs without labels (or units when appropriate) are not worth any point.\n",
        "\n",
        "## Exercise 0\n",
        "[0] With some approximations, we have measured the mass of the following black-holes:\n",
        "```\n",
        "\"35.6+/-3.9\",\"30.6+/-3.7\",\"63.1+/-3.2\",\"23.2+/-9.8\",\"13.6+/-4.5\",\"35.7+/-6.8\",\"13.7+/-6.0\",\"7.7+/-2.4\",\"20.5+/-4.0\"\n",
        "```\n",
        "Compute for each (with error-bars) their lifetime due to Hawking radiation:\n",
        "$$\n",
        "t = \\left(\\frac{M}{M_{\\odot}}\\right)^3\\,\\times\\,2.097\\,\\times\\,10^{67} yr\n",
        "$$\n",
        "\n",
        "(this exercise is for demonstration purposes and won't be marked)"
      ]
    },
    {
      "cell_type": "code",
      "execution_count": 8,
      "metadata": {
        "id": "Gu19xFOLDmsx"
      },
      "outputs": [],
      "source": []
    },
    {
      "cell_type": "markdown",
      "metadata": {
        "id": "0Ysl0-nuDmsx"
      },
      "source": [
        "## Exercise 1\n",
        "[2] An object is measured to travel a distance $x = 5.1 \\pm 0.4 m$ during a time of $t = 0.4 \\pm 0.1 s$. What is the average velocity and the error in the average velocity?"
      ]
    },
    {
      "cell_type": "code",
      "execution_count": 9,
      "metadata": {
        "id": "D91Cks6bDmsy",
        "outputId": "f383f597-e829-4c4b-eb77-47427c0d5086",
        "colab": {
          "base_uri": "https://localhost:8080/"
        }
      },
      "outputs": [
        {
          "output_type": "stream",
          "name": "stdout",
          "text": [
            "Ex 1\n",
            "Velocity = 12.7+/-3.3 ms^-1\n"
          ]
        }
      ],
      "source": [
        "x = uc.ufloat(5.1, 0.4)\n",
        "t = uc.ufloat(0.4, 0.1)\n",
        "v = x/t\n",
        "print(\"Ex 1\")\n",
        "print(f\"Velocity = {v} ms^-1\")"
      ]
    },
    {
      "cell_type": "markdown",
      "metadata": {
        "id": "K-MIG_8ODmsy"
      },
      "source": [
        "## Exercise 2\n",
        "[2] An enterprising cow attempts to jump over the moon by jumping vertically into the air with initial speed $v_0=4.0\\pm0.2 m/s$. After a time $t=0.60\\pm0.06s$, the height of the cow is $h = v_0t-\\frac{1}{2}g t^2 = 0.636 m$. What is the uncertainty in $h$? Take $g$ as exactly $9.81 ms^{-2}$."
      ]
    },
    {
      "cell_type": "code",
      "execution_count": 10,
      "metadata": {
        "id": "IQBiS38cDmsy",
        "outputId": "5f44f42c-3ca6-4a05-8130-1cef3b371733",
        "colab": {
          "base_uri": "https://localhost:8080/"
        }
      },
      "outputs": [
        {
          "output_type": "stream",
          "name": "stdout",
          "text": [
            "Ex 2\n",
            "Height = 0.63+/-0.16 m\n",
            "The uncertainty in the height = 0.16 m\n"
          ]
        }
      ],
      "source": [
        "initialSpeed = uc.ufloat(4, 0.2)\n",
        "time = uc.ufloat(0.6, 0.06)\n",
        "g = 9.81\n",
        "height = (initialSpeed*time) - (0.5*g*(time**2))\n",
        "print(\"Ex 2\")\n",
        "print(f\"Height = {height} m\")\n",
        "print(f\"The uncertainty in the height = {height.s:.2} m\")"
      ]
    },
    {
      "cell_type": "markdown",
      "metadata": {
        "id": "d0sI8pJ7Dmsy"
      },
      "source": [
        "## Exercise 3\n",
        "[2] In an optics experiment the object distance $u$ is measured to be 20cm and the image distance $v$ is 10cm, both to an accuracy of 0.5cm. Find the focal length $f$ of the lens using the formula:\n",
        "\n",
        "$$ \\frac{1}{u}+\\frac{1}{v}=\\frac{1}{f}$$"
      ]
    },
    {
      "cell_type": "code",
      "execution_count": 11,
      "metadata": {
        "id": "EZDBNjdeDmsy",
        "outputId": "39382f6e-88b4-4f8a-9684-f3e753bc7d45",
        "colab": {
          "base_uri": "https://localhost:8080/"
        }
      },
      "outputs": [
        {
          "output_type": "stream",
          "name": "stdout",
          "text": [
            "Ex 3\n",
            "0.0667+/-0.0023 m\n",
            "or\n",
            "Focal length = 6.67+/-0.23 cm\n"
          ]
        }
      ],
      "source": [
        "objectDistance = uc.ufloat(0.2, 0.005)\n",
        "imageDistance = uc.ufloat(0.1, 0.005)\n",
        "focalLength = 1/((1/objectDistance) + (1/imageDistance))\n",
        "print(\"Ex 3\")\n",
        "print(f\"{focalLength} m\")\n",
        "print(\"or\")\n",
        "print(f\"Focal length = {focalLength*100} cm\")"
      ]
    },
    {
      "cell_type": "markdown",
      "metadata": {
        "id": "tiWsuxuUDmsy"
      },
      "source": [
        "## Exercise 4\n",
        "[2] Two students each measure the refractive index of water. Jack measures a value of $1.33 \\pm 0.03$ while Jill measures $1.28 \\pm 0.02$. Are these values in agreement? *You do have to think a bit about this one...*"
      ]
    },
    {
      "cell_type": "code",
      "execution_count": 12,
      "metadata": {
        "id": "fBPw78yGDmsy",
        "outputId": "5d315b5a-ac39-4bdb-879d-a8e0653a5a03",
        "colab": {
          "base_uri": "https://localhost:8080/"
        }
      },
      "outputs": [
        {
          "output_type": "stream",
          "name": "stdout",
          "text": [
            "Ex 4\n",
            "Accepted value for refractive index of water is 1.333\n",
            "The values are not in agreement, The lower bound of Jacks measurement is the upper bound of Jills measurement\n"
          ]
        }
      ],
      "source": [
        "jackIndex = uc.ufloat(1.33, 0.03)\n",
        "jillIndex = uc.ufloat(1.28, 0.02)\n",
        "print(\"Ex 4\")\n",
        "print(\"Accepted value for refractive index of water is 1.333\")\n",
        "print(\"The values are not in agreement, The lower bound of Jacks measurement is the upper bound of Jills measurement\")"
      ]
    },
    {
      "cell_type": "markdown",
      "metadata": {
        "id": "FxmlovNXDmsy"
      },
      "source": [
        "## Exercise 5\n",
        "[2] The damped resonance frequency $\\omega_{res}$ of an oscillating system is related to the (un-damped) natural angular frequency $\\omega_0$ and the damping coefficient $\\alpha$ by:\n",
        "\n",
        "$$\\omega_{res} = \\sqrt{ \\omega_0^2 - 2\\alpha^2}$$\n",
        "\n",
        "Find $f_0$ if the measured resonance frequency $f_{res}$ is $23.2\\pm0.1 Hz$ and the measured damping coefficient is $19.5\\pm0.5s^{-1}$.\n"
      ]
    },
    {
      "cell_type": "code",
      "source": [
        "alpha = uc.ufloat(19.5, 0.5)\n",
        "fres = uc.ufloat(23.2, 0.1)\n",
        "aresf = fres*2*np.pi\n",
        "iAResFre = um.sqrt((aresf**2)+(2*(alpha**2)))\n",
        "initialFrequency = iAResFre/(2*np.pi)\n",
        "print(\"Ex 5\")\n",
        "print(f\"The initial frequency is {initialFrequency} Hz\")"
      ],
      "metadata": {
        "id": "u_OvPPpeY_Hf",
        "outputId": "2cf20e3b-56ce-4bf6-eac1-cf55a21afb49",
        "colab": {
          "base_uri": "https://localhost:8080/"
        }
      },
      "execution_count": 13,
      "outputs": [
        {
          "output_type": "stream",
          "name": "stdout",
          "text": [
            "Ex 5\n",
            "The initial frequency is 23.61+/-0.10 Hz\n"
          ]
        }
      ]
    },
    {
      "cell_type": "markdown",
      "metadata": {
        "id": "7p4V4JQFDmsz"
      },
      "source": [
        "## Exercise 6\n",
        "[2] Suppose you have the following equation from one of your lab experiments:\n",
        "\n",
        "$$f=\\frac{c}{2}\\sqrt{\\frac{n_x^2}{L_x^2}+\\frac{n_y^2}{L_y^2}+\\frac{n_z^2}{L_z^2}}$$\n",
        "\n",
        "where $f$ is the resonant frequency of sound waves in a box of sides $L_x$, $L_y$ and $L_z$ in length and the $n_x$ etc. are integers. $L_x = 10.2\\pm0.2m$, $L_y = 5.2\\pm0.3m$ and $L_z = 20.0\\pm0.1 m$, while $c = 331.3 + T * 0.606 \\,m\\,s^{-1}$ is the temperature-dependent speed of sound, and the temperature $T$ is $23 \\pm 1^\\circ C$.\n",
        "Calculate $f$ and the error in $f$ for the following values of $(nx,ny,nz)= (1,1,1), (1,1,2)$ and $(2,1,1)$.\n"
      ]
    },
    {
      "cell_type": "code",
      "execution_count": 14,
      "metadata": {
        "id": "dIHcAQFPDmsz",
        "outputId": "3ea1967c-b9ac-4e25-ec7d-48afb723c836",
        "colab": {
          "base_uri": "https://localhost:8080/"
        }
      },
      "outputs": [
        {
          "output_type": "stream",
          "name": "stdout",
          "text": [
            "Ex 6\n",
            "For (1,1,1), f is 38.2+/-1.7 Hz\n",
            "For (1,1,2), f is 41.1+/-1.6 Hz\n",
            "For (2,1,1), f is 48.2+/-1.4 Hz\n"
          ]
        }
      ],
      "source": [
        "lx = uc.ufloat(10.2,0.2)\n",
        "ly = uc.ufloat(5.2,0.3)\n",
        "lz = uc.ufloat(20,0.1)\n",
        "t = uc.ufloat(23,1)\n",
        "c = 331.3  + (t*0.606)\n",
        "def calculatef(nx, ny, nz):\n",
        "   finalf = (c/2)*um.sqrt(((nx**2)/(lx**2))+((ny**2)/(ly**2))+((nz**2)/(lz**2)))\n",
        "   return finalf\n",
        "f1 = calculatef(1,1,1)\n",
        "f2 = calculatef(1,1,2)\n",
        "f3 = calculatef(2,1,1)\n",
        "print(\"Ex 6\")\n",
        "print(f\"For (1,1,1), f is {f1} Hz\")\n",
        "print(f\"For (1,1,2), f is {f2} Hz\")\n",
        "print(f\"For (2,1,1), f is {f3} Hz\")"
      ]
    },
    {
      "cell_type": "markdown",
      "metadata": {
        "id": "XedNj2T3Dmsz"
      },
      "source": [
        "## Exercise 7\n",
        "[4] The reflection coefficient $R_\\parallel$ for parallel plane-polarised light reflected from a surface is given by the equation:\n",
        "\n",
        "$$ R_\\parallel = \\frac{\\tan^2(\\theta_i - \\theta_t)}{\\tan^2(\\theta_i + \\theta_t)} $$\n",
        "\n",
        "Calculate the error in $R_\\parallel$ given measurements $\\theta_i = (78 \\pm 1)^\\circ$ and $\\theta_t = (40 \\pm 1)^\\circ$."
      ]
    },
    {
      "cell_type": "code",
      "execution_count": 18,
      "metadata": {
        "id": "csM0BBjADmsz",
        "outputId": "166d97a1-2b80-41b9-b2a6-5ba9ab449040",
        "colab": {
          "base_uri": "https://localhost:8080/"
        }
      },
      "outputs": [
        {
          "output_type": "stream",
          "name": "stdout",
          "text": [
            "Ex 7\n",
            "The reflection coefficient is 0.00357\n",
            "The uncertainty in the reflection coefficient is 0.065\n"
          ]
        }
      ],
      "source": [
        "thetai = uc.ufloat(78,1)\n",
        "thetaf = uc.ufloat(40,1)\n",
        "R = (um.tan(thetai-thetaf)**2)/(um.tan(thetai+thetaf)**2)\n",
        "print(\"Ex 7\")\n",
        "print(f\"The reflection coefficient is {R.n:.3}\")\n",
        "print(f\"The uncertainty in the reflection coefficient is {R.s:.2}\")"
      ]
    },
    {
      "cell_type": "markdown",
      "metadata": {
        "id": "c0a-1vDCDmsz"
      },
      "source": [
        "## Exercise 8\n",
        "[4] Calculate and print to the screen the fractional uncertainty, as a percentage to one\n",
        "significant figure, of the fluid flow discharge coefficient $C_d$ from the equation\n",
        "\n",
        "$$\n",
        "C_d = \\frac{\\dot{m}\\sqrt{1-\\left(\\frac{d}{D}\\right)^4}}{Kd^2F\\sqrt{\\rho\\Delta P}}\n",
        "$$\n",
        "\n",
        "where\n",
        "\n",
        "\\begin{align*}\n",
        "    C_d &= \\text{discharge coefficient}&& \\text{(no units)} \\\\\n",
        "    \\dot{m} &= \\text{mass flow rate}&& = 0.13 \\pm 0.01kg\\,s^{-1} \\\\\n",
        "    d &= \\text{orifice diameter}&& = 11\\pm 1 mm \\\\\n",
        "    D &= \\text{pipe diameter}&& = 71 \\pm 1 mm \\\\\n",
        "    \\rho &= \\text{fluid density}&& =1.01\\pm0.01g\\,cm^{-3} \\\\\n",
        "    \\Delta P &= \\text{differential pressure}&& =156 \\pm 7 Pa \\\\\n",
        "    K &= \\text{a constant parameter}&& =\\text{constant (no units)} \\\\\n",
        "    F &= \\text{thermal expansion factor}&& =\\text{constant (no units)}\n",
        "\\end{align*}\n"
      ]
    },
    {
      "cell_type": "code",
      "execution_count": 20,
      "metadata": {
        "id": "4G6Ldx1DDms0",
        "outputId": "f4649159-f789-4dd1-af24-ff960cbfdf1c",
        "colab": {
          "base_uri": "https://localhost:8080/"
        }
      },
      "outputs": [
        {
          "output_type": "stream",
          "name": "stdout",
          "text": [
            "Ex 8\n",
            "The fluid flow discharge coefficient is 2.7+/-0.5\n",
            "The uncertainty in the fluid flow discharge coefficient is 0.54\n",
            "The percentage uncertainty in the fluid flow discharge coefficient is 2e+01%\n"
          ]
        }
      ],
      "source": [
        "# Properties\n",
        "mDot = uc.ufloat(0.13,0.01)\n",
        "d = uc.ufloat(11,1)\n",
        "D = uc.ufloat(71,1)\n",
        "p = uc.ufloat(1.01, 0.01)\n",
        "tP = uc.ufloat(156,7)\n",
        "# Converting units\n",
        "d = d/1000\n",
        "D = D/1000\n",
        "p = p*1000\n",
        "# Constants\n",
        "K = 1\n",
        "F = 1\n",
        "# Calculation\n",
        "cd = (mDot*um.sqrt(1-(d/D)**4))/(K*(d**2)*F*um.sqrt(p*tP))\n",
        "print(\"Ex 8\")\n",
        "print(f\"The fluid flow discharge coefficient is {cd}\")\n",
        "print(f\"The uncertainty in the fluid flow discharge coefficient is {cd.s:.2}\")\n",
        "cdper = ((cd.s)/(cd.n))*100\n",
        "print(f\"The percentage uncertainty in the fluid flow discharge coefficient is {cdper:.1}%\")"
      ]
    },
    {
      "cell_type": "markdown",
      "metadata": {
        "id": "1EqlMUsjDms0"
      },
      "source": [
        "## Exercise 9: Optional problem (not marked)\n",
        "If you have time and want to try something interesting, do the following problem by plotting in 2D:\n",
        " - Draw an equilateral triangle with vertices and coordinates: vertex 1: $(p_1,q_1)$; vertex 2: $(p_2, q_2)$; vertex 3: $(p_3, q_3)$.\n",
        " - Place a dot at an arbitrary point $P = (x_0, y_0)$ within this triangle.\n",
        " - Find the next point by selecting randomly an integer $n = 1 , 2, $  or $3$ :\n",
        "    1. If 1 , place a dot halfway between P and vertex 1.\n",
        "    2. If 2 , place a dot halfway between P and vertex 2.\n",
        "    3. If 3 , place a dot halfway between P and vertex 3.\n",
        " - Repeat the last two steps using the last dot as the new P.\n",
        "\n",
        "Mathematically, the coordinates of successive points are given by the formulae\n",
        "\n",
        "$$(x_{i+1},y_{i+1})=0.5[(x_i,y_i)+(p_n,q_n)]$$\n",
        "\n",
        "and\n",
        "\n",
        "$$n=int(1+3r_i),$$\n",
        "\n",
        "where $r_i$ is a random number between 0 and 1 and where the $int()$ function outputs the closest integer smaller than or equal to the argument.\n",
        "\n",
        "Try extending this to four vertices."
      ]
    },
    {
      "cell_type": "code",
      "execution_count": 16,
      "metadata": {
        "id": "S3V9F7t8Dms0"
      },
      "outputs": [],
      "source": []
    }
  ],
  "metadata": {
    "kernelspec": {
      "display_name": "Python 3",
      "language": "python",
      "name": "python3"
    },
    "language_info": {
      "codemirror_mode": {
        "name": "ipython",
        "version": 3
      },
      "file_extension": ".py",
      "mimetype": "text/x-python",
      "name": "python",
      "nbconvert_exporter": "python",
      "pygments_lexer": "ipython3",
      "version": "3.7.10"
    },
    "colab": {
      "provenance": []
    }
  },
  "nbformat": 4,
  "nbformat_minor": 0
}